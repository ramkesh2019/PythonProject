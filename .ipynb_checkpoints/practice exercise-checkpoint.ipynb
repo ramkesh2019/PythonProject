{
 "cells": [
  {
   "cell_type": "code",
   "execution_count": 11,
   "metadata": {},
   "outputs": [
    {
     "name": "stdout",
     "output_type": "stream",
     "text": [
      "5\n"
     ]
    }
   ],
   "source": [
    "print(index)"
   ]
  },
  {
   "cell_type": "code",
   "execution_count": 21,
   "metadata": {},
   "outputs": [
    {
     "name": "stdout",
     "output_type": "stream",
     "text": [
      "0\n",
      "1\n",
      "2\n",
      "3\n",
      "4\n",
      "5\n"
     ]
    }
   ],
   "source": [
    "for index in range(6):\n",
    "    print(index)\n",
    "    "
   ]
  },
  {
   "cell_type": "code",
   "execution_count": 2,
   "metadata": {},
   "outputs": [
    {
     "data": {
      "text/plain": [
       "['In',\n",
       " 'Out',\n",
       " '_',\n",
       " '__',\n",
       " '___',\n",
       " '__builtin__',\n",
       " '__builtins__',\n",
       " '__doc__',\n",
       " '__loader__',\n",
       " '__name__',\n",
       " '__package__',\n",
       " '__spec__',\n",
       " '_dh',\n",
       " '_i',\n",
       " '_i1',\n",
       " '_i2',\n",
       " '_ih',\n",
       " '_ii',\n",
       " '_iii',\n",
       " '_oh',\n",
       " 'exit',\n",
       " 'get_ipython',\n",
       " 'index',\n",
       " 'quit']"
      ]
     },
     "execution_count": 2,
     "metadata": {},
     "output_type": "execute_result"
    }
   ],
   "source": [
    "dir()"
   ]
  },
  {
   "cell_type": "code",
   "execution_count": 8,
   "metadata": {},
   "outputs": [
    {
     "name": "stdout",
     "output_type": "stream",
     "text": [
      "<IPython.core.autocall.ZMQExitAutocall object at 0x00000292E3850710>\n"
     ]
    }
   ],
   "source": [
    "print(quit)"
   ]
  },
  {
   "cell_type": "code",
   "execution_count": 10,
   "metadata": {},
   "outputs": [
    {
     "name": "stdout",
     "output_type": "stream",
     "text": [
      "5\n"
     ]
    }
   ],
   "source": [
    "print(index)"
   ]
  },
  {
   "cell_type": "code",
   "execution_count": 12,
   "metadata": {},
   "outputs": [
    {
     "name": "stdout",
     "output_type": "stream",
     "text": [
      "<bound method InteractiveShell.get_ipython of <ipykernel.zmqshell.ZMQInteractiveShell object at 0x00000292E2CDA3C8>>\n"
     ]
    }
   ],
   "source": [
    "print(get_ipython)"
   ]
  },
  {
   "cell_type": "code",
   "execution_count": 13,
   "metadata": {},
   "outputs": [
    {
     "name": "stdout",
     "output_type": "stream",
     "text": [
      "Help on method raw_input in module ipykernel.kernelbase:\n",
      "\n",
      "raw_input(prompt='') method of ipykernel.ipkernel.IPythonKernel instance\n",
      "    Forward raw_input to frontends\n",
      "    \n",
      "    Raises\n",
      "    ------\n",
      "    StdinNotImplentedError if active frontend doesn't support stdin.\n",
      "\n"
     ]
    }
   ],
   "source": [
    "help(input)"
   ]
  },
  {
   "cell_type": "code",
   "execution_count": 15,
   "metadata": {},
   "outputs": [
    {
     "name": "stdout",
     "output_type": "stream",
     "text": [
      "whta is your name? ram\n"
     ]
    }
   ],
   "source": [
    "name= input('whta is your name? ')"
   ]
  },
  {
   "cell_type": "code",
   "execution_count": 16,
   "metadata": {},
   "outputs": [
    {
     "data": {
      "text/plain": [
       "'ram'"
      ]
     },
     "execution_count": 16,
     "metadata": {},
     "output_type": "execute_result"
    }
   ],
   "source": [
    "name"
   ]
  },
  {
   "cell_type": "code",
   "execution_count": 17,
   "metadata": {},
   "outputs": [
    {
     "name": "stdout",
     "output_type": "stream",
     "text": [
      "hello ram\n"
     ]
    }
   ],
   "source": [
    "print('hello',name)"
   ]
  },
  {
   "cell_type": "code",
   "execution_count": 18,
   "metadata": {},
   "outputs": [
    {
     "name": "stdout",
     "output_type": "stream",
     "text": [
      "hello ram welcome to python\n"
     ]
    }
   ],
   "source": [
    "print('hello',name, 'welcome to python')"
   ]
  },
  {
   "cell_type": "code",
   "execution_count": 20,
   "metadata": {},
   "outputs": [
    {
     "name": "stdout",
     "output_type": "stream",
     "text": [
      "hello ram welcome to python\n"
     ]
    }
   ],
   "source": [
    "print('hello', name + ' welcome to python')"
   ]
  },
  {
   "cell_type": "code",
   "execution_count": 22,
   "metadata": {},
   "outputs": [
    {
     "name": "stdout",
     "output_type": "stream",
     "text": [
      "list of object names in _main_ namespace:\n",
      "['In', 'Out', '_', '_16', '_2', '__', '___', '__builtin__', '__builtins__', '__doc__', '__loader__', '__name__', '__package__', '__spec__', '_dh', '_i', '_i1', '_i10', '_i11', '_i12', '_i13', '_i14', '_i15', '_i16', '_i17', '_i18', '_i19', '_i2', '_i20', '_i21', '_i22', '_i3', '_i4', '_i5', '_i6', '_i7', '_i8', '_i9', '_ih', '_ii', '_iii', '_oh', 'exit', 'get_ipython', 'index', 'name', 'quit']\n"
     ]
    }
   ],
   "source": [
    "print('list of object names in _main_ namespace:')\n",
    "print(dir())"
   ]
  },
  {
   "cell_type": "code",
   "execution_count": 23,
   "metadata": {},
   "outputs": [
    {
     "name": "stdout",
     "output_type": "stream",
     "text": [
      "list of object names in _main_ namespace after \"import math\" has execute:\n",
      "['In', 'Out', '_', '_16', '_2', '__', '___', '__builtin__', '__builtins__', '__doc__', '__loader__', '__name__', '__package__', '__spec__', '_dh', '_i', '_i1', '_i10', '_i11', '_i12', '_i13', '_i14', '_i15', '_i16', '_i17', '_i18', '_i19', '_i2', '_i20', '_i21', '_i22', '_i23', '_i3', '_i4', '_i5', '_i6', '_i7', '_i8', '_i9', '_ih', '_ii', '_iii', '_oh', 'exit', 'get_ipython', 'index', 'math', 'name', 'quit']\n"
     ]
    }
   ],
   "source": [
    "import math\n",
    "print('list of object names in _main_ namespace', end=' ')\n",
    "print('after \"import math\" has execute:')\n",
    "print(dir())"
   ]
  },
  {
   "cell_type": "code",
   "execution_count": 24,
   "metadata": {},
   "outputs": [
    {
     "name": "stdout",
     "output_type": "stream",
     "text": [
      "the value of pi is 3.141592653589793\n"
     ]
    }
   ],
   "source": [
    "print('the value of pi is' , math.pi)\n"
   ]
  },
  {
   "cell_type": "code",
   "execution_count": 25,
   "metadata": {},
   "outputs": [
    {
     "name": "stdout",
     "output_type": "stream",
     "text": [
      "the tangent of 1 is  1.5574077246549023\n"
     ]
    }
   ],
   "source": [
    "print('the tangent of 1 is ', math.tan(1))"
   ]
  },
  {
   "cell_type": "code",
   "execution_count": 26,
   "metadata": {},
   "outputs": [],
   "source": [
    "del(math)"
   ]
  },
  {
   "cell_type": "code",
   "execution_count": 27,
   "metadata": {},
   "outputs": [
    {
     "name": "stdout",
     "output_type": "stream",
     "text": [
      "list of object names in _main_namespace:\n",
      "['In', 'Out', '_', '_16', '_2', '__', '___', '__builtin__', '__builtins__', '__doc__', '__loader__', '__name__', '__package__', '__spec__', '_dh', '_i', '_i1', '_i10', '_i11', '_i12', '_i13', '_i14', '_i15', '_i16', '_i17', '_i18', '_i19', '_i2', '_i20', '_i21', '_i22', '_i23', '_i24', '_i25', '_i26', '_i27', '_i3', '_i4', '_i5', '_i6', '_i7', '_i8', '_i9', '_ih', '_ii', '_iii', '_oh', 'exit', 'fun', 'get_ipython', 'index', 'name', 'quit']\n"
     ]
    }
   ],
   "source": [
    "import math as fun\n",
    "print('list of object names in _main_namespace:')\n",
    "print(dir())"
   ]
  },
  {
   "cell_type": "code",
   "execution_count": 30,
   "metadata": {},
   "outputs": [
    {
     "name": "stdout",
     "output_type": "stream",
     "text": [
      "The value of pi  3.141592653589793\n",
      "The tangent of 1 is  1.5574077246549023\n"
     ]
    }
   ],
   "source": [
    "print('The value of pi ' ,fun.pi)\n",
    "print('The tangent of 1 is ' ,fun.tan(1))"
   ]
  },
  {
   "cell_type": "code",
   "execution_count": 36,
   "metadata": {},
   "outputs": [
    {
     "name": "stdout",
     "output_type": "stream",
     "text": [
      "List of object name in _main_ namespace:\n",
      "['In', 'Out', '_', '_16', '_2', '__', '___', '__builtin__', '__builtins__', '__doc__', '__loader__', '__name__', '__package__', '__spec__', '_dh', '_i', '_i1', '_i10', '_i11', '_i12', '_i13', '_i14', '_i15', '_i16', '_i17', '_i18', '_i19', '_i2', '_i20', '_i21', '_i22', '_i23', '_i24', '_i25', '_i26', '_i27', '_i28', '_i29', '_i3', '_i30', '_i31', '_i32', '_i33', '_i34', '_i35', '_i36', '_i4', '_i5', '_i6', '_i7', '_i8', '_i9', '_ih', '_ii', '_iii', '_oh', 'exit', 'fun', 'get_ipython', 'index', 'name', 'pi', 'quit', 'tan']\n",
      "list of object name in _main_namespace after \"from math import pi,tan\" has executed:\n",
      "['In', 'Out', '_', '_16', '_2', '__', '___', '__builtin__', '__builtins__', '__doc__', '__loader__', '__name__', '__package__', '__spec__', '_dh', '_i', '_i1', '_i10', '_i11', '_i12', '_i13', '_i14', '_i15', '_i16', '_i17', '_i18', '_i19', '_i2', '_i20', '_i21', '_i22', '_i23', '_i24', '_i25', '_i26', '_i27', '_i28', '_i29', '_i3', '_i30', '_i31', '_i32', '_i33', '_i34', '_i35', '_i36', '_i4', '_i5', '_i6', '_i7', '_i8', '_i9', '_ih', '_ii', '_iii', '_oh', 'exit', 'fun', 'get_ipython', 'index', 'name', 'pi', 'quit', 'tan']\n",
      "the value of pi is  3.141592653589793\n",
      "the tangent of i is 1.5574077246549023\n"
     ]
    }
   ],
   "source": [
    "print('List of object name in _main_ namespace:')\n",
    "print(dir())\n",
    "from math import pi, tan\n",
    "print('list of object name in _main_namespace', end=' ')\n",
    "print('after \"from math import pi,tan\" has executed:')\n",
    "print(dir())\n",
    "print('the value of pi is ' ,pi)\n",
    "print('the tangent of i is',tan(1))\n",
    "del(pi)"
   ]
  },
  {
   "cell_type": "code",
   "execution_count": 32,
   "metadata": {},
   "outputs": [
    {
     "name": "stdout",
     "output_type": "stream",
     "text": [
      "the value of pi  3.141592653589793\n"
     ]
    }
   ],
   "source": [
    "print('the value of pi ' ,pi)"
   ]
  },
  {
   "cell_type": "code",
   "execution_count": 33,
   "metadata": {},
   "outputs": [
    {
     "name": "stdout",
     "output_type": "stream",
     "text": [
      "the tangent of 1  1.5574077246549023\n"
     ]
    }
   ],
   "source": [
    "print(\"the tangent of 1 \",tan(1))"
   ]
  },
  {
   "cell_type": "code",
   "execution_count": 38,
   "metadata": {},
   "outputs": [
    {
     "name": "stdout",
     "output_type": "stream",
     "text": [
      "what is the circle radius?5\n",
      "The area of the circle is= 78.53981633974483\n",
      "The circumfrance of the circle is= 31.41592653589793\n"
     ]
    }
   ],
   "source": [
    "from math import pi\n",
    "radius = input('what is the circle radius?')\n",
    "print('The area of the circle is=',float(radius) **2*pi)\n",
    "print('The circumfrance of the circle is=', 2*float(radius)*pi)"
   ]
  },
  {
   "cell_type": "code",
   "execution_count": 39,
   "metadata": {},
   "outputs": [
    {
     "data": {
      "text/plain": [
       "int"
      ]
     },
     "execution_count": 39,
     "metadata": {},
     "output_type": "execute_result"
    }
   ],
   "source": [
    "x=10\n",
    "type(x)"
   ]
  },
  {
   "cell_type": "code",
   "execution_count": 52,
   "metadata": {},
   "outputs": [
    {
     "name": "stdout",
     "output_type": "stream",
     "text": [
      "x= 5 ,  y= 10\n",
      "x//y= (0, 5)\n",
      "pow(x,y)=  9765625\n",
      "abs(-x) = 5\n",
      "int(5.32)= 5\n",
      "float(x)= 5.0\n"
     ]
    }
   ],
   "source": [
    "x=5\n",
    "y=10\n",
    "y=0xA\n",
    "y=0O12\n",
    "y=0B1010\n",
    "print('x=',x,', ','y=',y)\n",
    "print('x//y=', divmod(x,y))\n",
    "print('pow(x,y)= ',pow(x,y) )\n",
    "print('abs(-x) =',abs(-x))\n",
    "print('int(5.32)=',int(5.32))\n",
    "print('float(x)=',float(x))"
   ]
  },
  {
   "cell_type": "code",
   "execution_count": 73,
   "metadata": {},
   "outputs": [
    {
     "name": "stdout",
     "output_type": "stream",
     "text": [
      "x= 10 , y = 5\n",
      "or: x|y= 15\n",
      "xor: x^y= 15\n",
      "And: x&y= 0\n",
      "Left shift: x<<y= 320\n",
      "Ringht shift: x>>y= 0\n",
      "inversion: ~x= -11\n"
     ]
    }
   ],
   "source": [
    "x,y=10,5\n",
    "print('x=',x , ',' ' y =', y)\n",
    "print('or: x|y=',x|y)\n",
    "print('xor: x^y=',x^y)\n",
    "print('And: x&y=',x&y)\n",
    "print('Left shift: x<<y=', x<<y)\n",
    "print('Ringht shift: x>>y=', x>>y)\n",
    "print('inversion: ~x=' , ~x)"
   ]
  },
  {
   "cell_type": "code",
   "execution_count": 11,
   "metadata": {},
   "outputs": [
    {
     "name": "stdout",
     "output_type": "stream",
     "text": [
      "['234', '123']\n"
     ]
    }
   ],
   "source": [
    "x=['123','234']\n",
    "x.reverse()\n",
    "print(x)"
   ]
  },
  {
   "cell_type": "code",
   "execution_count": 4,
   "metadata": {},
   "outputs": [
    {
     "name": "stdout",
     "output_type": "stream",
     "text": [
      "['ram', 'is', 'name', 'my', 'hello']\n"
     ]
    }
   ],
   "source": [
    "x=['hello', 'my', 'name', 'is', 'ram']\n",
    "x.reverse()\n",
    "print(x)"
   ]
  },
  {
   "cell_type": "markdown",
   "metadata": {},
   "source": [
    "# python syntax"
   ]
  },
  {
   "cell_type": "code",
   "execution_count": 5,
   "metadata": {},
   "outputs": [
    {
     "name": "stdout",
     "output_type": "stream",
     "text": [
      "hello my name is shyam and age is\n"
     ]
    }
   ],
   "source": [
    "print('hello my name is shyam and age is')"
   ]
  },
  {
   "cell_type": "code",
   "execution_count": 6,
   "metadata": {},
   "outputs": [
    {
     "name": "stdout",
     "output_type": "stream",
     "text": [
      "twelve is greater than five\n"
     ]
    }
   ],
   "source": [
    "# python indentations\n",
    "# python uses indentation to indicate a block of code\n",
    "if 12>5:\n",
    "    print('twelve is greater than five')"
   ]
  },
  {
   "cell_type": "markdown",
   "metadata": {},
   "source": [
    "# Python variables"
   ]
  },
  {
   "cell_type": "code",
   "execution_count": 16,
   "metadata": {},
   "outputs": [
    {
     "name": "stdout",
     "output_type": "stream",
     "text": [
      "5\n",
      "jhon\n",
      "76\n"
     ]
    }
   ],
   "source": [
    "# Unlike other programming langauges,python has no command for declaring a variable\n",
    "# Variable can not start with number or special character\n",
    "x=5\n",
    "y='jhon'\n",
    "print(x)\n",
    "print(y)\n",
    "#print(x+y)\n",
    "x=20\n",
    "y=56\n",
    "print(x+y)"
   ]
  },
  {
   "cell_type": "code",
   "execution_count": 11,
   "metadata": {},
   "outputs": [
    {
     "name": "stdout",
     "output_type": "stream",
     "text": [
      "python language is awesome\n"
     ]
    }
   ],
   "source": [
    "x='awesome'\n",
    "print('python language is '+ x )\n"
   ]
  },
  {
   "cell_type": "code",
   "execution_count": 13,
   "metadata": {},
   "outputs": [
    {
     "name": "stdout",
     "output_type": "stream",
     "text": [
      "python is awesome\n"
     ]
    }
   ],
   "source": [
    "x='python is '\n",
    "y='awesome'\n",
    "z=x+y\n",
    "print(z)"
   ]
  },
  {
   "cell_type": "markdown",
   "metadata": {},
   "source": [
    "# Python number { int(),float(),coplex(),bin(),oct(),hex() }"
   ]
  },
  {
   "cell_type": "code",
   "execution_count": 2,
   "metadata": {},
   "outputs": [
    {
     "name": "stdout",
     "output_type": "stream",
     "text": [
      "1 2.25 (2+3j)\n",
      "1\n",
      "2.25\n",
      "(2+3j)\n",
      "<class 'int'>\n",
      "<class 'float'>\n",
      "<class 'complex'>\n",
      "<class 'float'>\n"
     ]
    }
   ],
   "source": [
    "# There are three number type in python(int,float,complex)\n",
    "x=1 # int(+ or- 5)\n",
    "y=2.25 # float(+ or - 1.20,2.25)\n",
    "z=2+3j # complex(2+3j)\n",
    "print(x ,y,z)\n",
    "print(x)\n",
    "print(y)\n",
    "print(z)\n",
    "print(type(x))\n",
    "print(type(y))\n",
    "print(type(z))\n",
    "q=.0235\n",
    "print(type(q))"
   ]
  },
  {
   "cell_type": "code",
   "execution_count": 26,
   "metadata": {},
   "outputs": [
    {
     "name": "stdout",
     "output_type": "stream",
     "text": [
      "<class 'float'>\n",
      "<class 'float'>\n",
      "<class 'float'>\n"
     ]
    }
   ],
   "source": [
    "x=35e3\n",
    "y=12E4\n",
    "z=-856.65e100\n",
    "print(type(x))\n",
    "print(type(y))\n",
    "print(type(z))"
   ]
  },
  {
   "cell_type": "code",
   "execution_count": 29,
   "metadata": {},
   "outputs": [
    {
     "name": "stdout",
     "output_type": "stream",
     "text": [
      "<class 'complex'>\n",
      "<class 'complex'>\n",
      "<class 'complex'>\n",
      "(-0-6j)\n",
      "3j\n"
     ]
    }
   ],
   "source": [
    "x=3+5j\n",
    "y=3j\n",
    "z=-6j\n",
    "print(type(x))\n",
    "print(type(y))\n",
    "print(type(z))\n",
    "print(z)\n",
    "print(y)"
   ]
  },
  {
   "cell_type": "markdown",
   "metadata": {},
   "source": [
    "# Number system"
   ]
  },
  {
   "cell_type": "code",
   "execution_count": 9,
   "metadata": {},
   "outputs": [
    {
     "name": "stdout",
     "output_type": "stream",
     "text": [
      "0b11001\n",
      "0o4747\n",
      "0xa1d\n"
     ]
    }
   ],
   "source": [
    "# Decimal to binary , octal ,hexadecimal conversionn\n",
    "print(bin(25))\n",
    "print(oct(2535))\n",
    "print(hex(2589))"
   ]
  },
  {
   "cell_type": "code",
   "execution_count": 17,
   "metadata": {},
   "outputs": [
    {
     "name": "stdout",
     "output_type": "stream",
     "text": [
      "Enter a decimal number: 256987\n",
      "This is binary  no= 0b111110101111011011\n",
      "this is octal no= 0o765733\n",
      "this is hexadecimal no= 0x3ebdb\n"
     ]
    }
   ],
   "source": [
    "# user input\n",
    "n=int(input(\"Enter a decimal number: \"))\n",
    "print(\"This is binary  no=\",bin(n))\n",
    "print('this is octal no=',oct(n))\n",
    "print('this is hexadecimal no=',hex(n))"
   ]
  },
  {
   "cell_type": "code",
   "execution_count": 22,
   "metadata": {},
   "outputs": [
    {
     "name": "stdout",
     "output_type": "stream",
     "text": [
      "21\n",
      "1710\n",
      "43981\n"
     ]
    }
   ],
   "source": [
    "# binary,octal,hexadecimal to convert decimal(0B1010,0O2356,0X538abc)\n",
    "x=0B10101\n",
    "y=0O3256\n",
    "z=0Xabcd\n",
    "print(x)\n",
    "print(y)\n",
    "print(z)"
   ]
  },
  {
   "cell_type": "code",
   "execution_count": 26,
   "metadata": {},
   "outputs": [
    {
     "ename": "SyntaxError",
     "evalue": "invalid token (<ipython-input-26-20e4ae22a221>, line 5)",
     "output_type": "error",
     "traceback": [
      "\u001b[1;36m  File \u001b[1;32m\"<ipython-input-26-20e4ae22a221>\"\u001b[1;36m, line \u001b[1;32m5\u001b[0m\n\u001b[1;33m    print(0b*x)\u001b[0m\n\u001b[1;37m           ^\u001b[0m\n\u001b[1;31mSyntaxError\u001b[0m\u001b[1;31m:\u001b[0m invalid token\n"
     ]
    }
   ],
   "source": [
    "# user input for converst to decimal number\n",
    "x=input('Enter binary number: ')\n",
    "#y=input(\"enter octal number: \")\n",
    "#z=str('Enter hexadecimal number: ')\n",
    "print(0b*x)"
   ]
  },
  {
   "cell_type": "markdown",
   "metadata": {},
   "source": [
    "# Python casting"
   ]
  },
  {
   "cell_type": "code",
   "execution_count": 4,
   "metadata": {},
   "outputs": [
    {
     "name": "stdout",
     "output_type": "stream",
     "text": [
      "1\n",
      "2\n",
      "25\n"
     ]
    }
   ],
   "source": [
    "# Specify a variable type\n",
    "# int()\n",
    "# float()\n",
    "# str()\n",
    "x= int(1) # x will be 1\n",
    "y=int(2.85) # y will be 2\n",
    "z=int('25') # z will be 25\n",
    "print(x)\n",
    "print(y)\n",
    "print(z)"
   ]
  },
  {
   "cell_type": "code",
   "execution_count": 5,
   "metadata": {},
   "outputs": [
    {
     "name": "stdout",
     "output_type": "stream",
     "text": [
      "2.0\n",
      "2.25\n",
      "36.0\n",
      "35.56\n"
     ]
    }
   ],
   "source": [
    "x=float(2) #x will be 2.0\n",
    "y=float(2.25) # y will be 2.25\n",
    "z=float('36') # z will be 36.0\n",
    "w=float('35.56') # w will be 35.56\n",
    "print(x)\n",
    "print(y)\n",
    "print(z)\n",
    "print(w)"
   ]
  },
  {
   "cell_type": "code",
   "execution_count": 6,
   "metadata": {},
   "outputs": [
    {
     "name": "stdout",
     "output_type": "stream",
     "text": [
      "xyz25\n",
      "36\n",
      "3.256\n"
     ]
    }
   ],
   "source": [
    "x=str('xyz25') # x will be xyz25\n",
    "y=str(36)  # y will be 36\n",
    "z=str(3.256) # z will be 3.256\n",
    "print(x)\n",
    "print(y)\n",
    "print(z)"
   ]
  },
  {
   "cell_type": "markdown",
   "metadata": {},
   "source": [
    "# Python Strings"
   ]
  },
  {
   "cell_type": "code",
   "execution_count": 8,
   "metadata": {},
   "outputs": [
    {
     "name": "stdout",
     "output_type": "stream",
     "text": [
      "h\n",
      "e\n",
      "m\n",
      "a\n",
      "hello dear my name is ram\n",
      "hell\n",
      "ello \n",
      "hello dear\n"
     ]
    }
   ],
   "source": [
    "# String Literals in python are surrounding by either single quotation marks,or double quotation marks.\n",
    "# 'hello' is the same \"hello\"\n",
    "# Indexing or character at position\n",
    "# starting from left to right=0,1,2,3,4,5,6-----\n",
    "# starting froma ribght to left = -1,-,2,-3,-4,-5,-6--\n",
    "x= 'hello dear my name is ram'\n",
    "print(x[0])\n",
    "print(x[1])\n",
    "print(x[-1])\n",
    "print(x[-2])\n",
    "print(x[0:])\n",
    "print(x[0:4])\n",
    "print(x[1:6])\n",
    "print(x[:10])"
   ]
  },
  {
   "cell_type": "code",
   "execution_count": 10,
   "metadata": {},
   "outputs": [
    {
     "name": "stdout",
     "output_type": "stream",
     "text": [
      "hello dear sir\n"
     ]
    }
   ],
   "source": [
    "# Use of strip\n",
    "qq='hello dear sir '\n",
    "print(qq.strip())"
   ]
  },
  {
   "cell_type": "code",
   "execution_count": 17,
   "metadata": {},
   "outputs": [
    {
     "name": "stdout",
     "output_type": "stream",
     "text": [
      "18\n",
      "17\n",
      "1\n",
      "3\n"
     ]
    }
   ],
   "source": [
    "# Use of len() that means count the letters\n",
    "a='hello dear student'\n",
    "x=('hi my name is ram')\n",
    "q=['hello boys']\n",
    "y=('hello','dear','name')\n",
    "print(len(a))\n",
    "print(len(x))\n",
    "print(len(q))\n",
    "print(len(y))"
   ]
  },
  {
   "cell_type": "code",
   "execution_count": 18,
   "metadata": {},
   "outputs": [
    {
     "name": "stdout",
     "output_type": "stream",
     "text": [
      "HELLO WORLD\n",
      "hello dear\n"
     ]
    }
   ],
   "source": [
    "# Use lower and upper case for capitalize letter\n",
    "x='hello world'\n",
    "y='HELLO DEAR'\n",
    "print(x.upper())\n",
    "print(y.lower())"
   ]
  },
  {
   "cell_type": "code",
   "execution_count": 23,
   "metadata": {},
   "outputs": [
    {
     "name": "stdout",
     "output_type": "stream",
     "text": [
      "jello world\n",
      "Earth world\n"
     ]
    }
   ],
   "source": [
    "# The replace() method replaces a string with another string\n",
    "x=('hello world')\n",
    "print(x.replace('h','j'))\n",
    "print(x.replace('hello','Earth'))"
   ]
  },
  {
   "cell_type": "code",
   "execution_count": 29,
   "metadata": {},
   "outputs": [
    {
     "name": "stdout",
     "output_type": "stream",
     "text": [
      "['Mathematics', 'is', 'good', 'subject']\n"
     ]
    }
   ],
   "source": [
    "# The split() method splits the string into substrings if it finds instances of the separator\n",
    "x=('Mathematics is good subject')\n",
    "print(x.split())"
   ]
  },
  {
   "cell_type": "code",
   "execution_count": 30,
   "metadata": {},
   "outputs": [
    {
     "name": "stdout",
     "output_type": "stream",
     "text": [
      "Enter your name:\n",
      "ram\n",
      "hello,  ram\n"
     ]
    }
   ],
   "source": [
    "# use of input\n",
    "print('Enter your name:')\n",
    "x=input()\n",
    "print('hello, ',x)"
   ]
  },
  {
   "cell_type": "markdown",
   "metadata": {},
   "source": [
    "# Python Operators"
   ]
  },
  {
   "cell_type": "markdown",
   "metadata": {},
   "source": [
    "# Pyhton operators is 7(Airthmetic,Assignment,comparison,Logical,Identity,membership,Bitwise)\n"
   ]
  },
  {
   "cell_type": "markdown",
   "metadata": {},
   "source": [
    "# Airthmetic Operators"
   ]
  },
  {
   "cell_type": "code",
   "execution_count": 40,
   "metadata": {},
   "outputs": [
    {
     "name": "stdout",
     "output_type": "stream",
     "text": [
      "11\n",
      "-5\n",
      "0.375\n",
      "24\n",
      "0\n",
      "6561\n",
      "3\n",
      "30\n",
      "5\n",
      "50\n",
      "2.0\n",
      "2\n",
      "8\n"
     ]
    }
   ],
   "source": [
    "x=3\n",
    "y=8\n",
    "print(x+y)\n",
    "print(x-y)\n",
    "print(x/y)\n",
    "print(x*y)\n",
    "print(x//y) # floar division\n",
    "print(x**y) # exponentiation\n",
    "print(x%y) # Modulus\n",
    "x=20\n",
    "x+=10\n",
    "print(x)\n",
    "y=10\n",
    "y-=5\n",
    "print(y)\n",
    "z=25\n",
    "z*=2\n",
    "print(z)\n",
    "q=4\n",
    "q/=2\n",
    "print(q)\n",
    "w=6\n",
    "w//=3\n",
    "print(w)\n",
    "e=2\n",
    "e**=3\n",
    "print(e)"
   ]
  },
  {
   "cell_type": "markdown",
   "metadata": {},
   "source": [
    "# Comparison Operators"
   ]
  },
  {
   "cell_type": "code",
   "execution_count": 43,
   "metadata": {},
   "outputs": [
    {
     "name": "stdout",
     "output_type": "stream",
     "text": [
      "False\n",
      "True\n",
      "False\n",
      "True\n",
      "False\n",
      "True\n"
     ]
    }
   ],
   "source": [
    "x=25\n",
    "y=30\n",
    "print(x==y)\n",
    "print(x!=y)\n",
    "print(x>y)\n",
    "print(x<y)\n",
    "print(x>=y)\n",
    "print(x<=y)"
   ]
  },
  {
   "cell_type": "markdown",
   "metadata": {},
   "source": [
    "# Python Logical Operators"
   ]
  },
  {
   "cell_type": "code",
   "execution_count": 55,
   "metadata": {},
   "outputs": [
    {
     "name": "stdout",
     "output_type": "stream",
     "text": [
      "True\n",
      "False\n",
      "False\n",
      "True\n",
      "False\n",
      "True\n",
      "True\n"
     ]
    }
   ],
   "source": [
    "# and, or, not\n",
    "x=45\n",
    "y=50\n",
    "print(x!=y and y!=x)\n",
    "print(x==y and x!=y)\n",
    "print(x==y and x>y)\n",
    "print(x==y or x!=y)\n",
    "print(x==y or x>y)\n",
    "print(x>y or y>x)\n",
    "z=(x!=y and x==y)\n",
    "print(not(z))"
   ]
  },
  {
   "cell_type": "markdown",
   "metadata": {},
   "source": [
    "# Python Identity Operators"
   ]
  },
  {
   "cell_type": "code",
   "execution_count": 61,
   "metadata": {},
   "outputs": [
    {
     "name": "stdout",
     "output_type": "stream",
     "text": [
      "False\n",
      "True\n",
      "True\n",
      "False\n"
     ]
    }
   ],
   "source": [
    "# is and is not\n",
    "x=(1,2,3,4,5,6)\n",
    "y=(3,2,4,5,6,7,8)\n",
    "print(x is y)\n",
    "print(x is not y)\n",
    "a='hello dear'\n",
    "b=a\n",
    "print(a is b)\n",
    "print(a is not b)"
   ]
  },
  {
   "cell_type": "markdown",
   "metadata": {},
   "source": [
    "# Python Membership Operators"
   ]
  },
  {
   "cell_type": "code",
   "execution_count": 66,
   "metadata": {},
   "outputs": [
    {
     "name": "stdout",
     "output_type": "stream",
     "text": [
      "False\n",
      "True\n",
      "True\n",
      "True\n"
     ]
    }
   ],
   "source": [
    "x=(1,2,3,4,5)\n",
    "y=('hello','dear','banana')\n",
    "print(x in y)\n",
    "print(x not in y)\n",
    "print(4 in x)\n",
    "print('dear' in y)"
   ]
  },
  {
   "cell_type": "markdown",
   "metadata": {},
   "source": [
    "# Bitwise operators"
   ]
  },
  {
   "cell_type": "code",
   "execution_count": null,
   "metadata": {},
   "outputs": [],
   "source": [
    "\n"
   ]
  },
  {
   "cell_type": "code",
   "execution_count": null,
   "metadata": {},
   "outputs": [],
   "source": []
  },
  {
   "cell_type": "markdown",
   "metadata": {},
   "source": [
    "# Python list"
   ]
  },
  {
   "cell_type": "code",
   "execution_count": 67,
   "metadata": {},
   "outputs": [],
   "source": [
    "# Python Collections (Arrays)\n",
    "# There are four collection data types in python programming language:\n",
    "#List,Tuple,Set,Dictionary"
   ]
  },
  {
   "cell_type": "code",
   "execution_count": 71,
   "metadata": {},
   "outputs": [
    {
     "name": "stdout",
     "output_type": "stream",
     "text": [
      "['apple', 'banana', 'cherry', 'mango']\n",
      "apple\n",
      "banana\n",
      "cherry\n",
      "['gavava', 'banana', 'cherry', 'mango']\n"
     ]
    }
   ],
   "source": [
    "# list is a collection which is ordered and changeable. Allows dublicate members. List are written with square brackets.\n",
    "fruits=['apple','banana','cherry','mango']\n",
    "print(fruits)\n",
    "print(fruits[0])\n",
    "print(fruits[1])\n",
    "print(fruits[2])\n",
    "fruits[0]='gavava' # replace the value\n",
    "print(fruits)"
   ]
  },
  {
   "cell_type": "code",
   "execution_count": 72,
   "metadata": {},
   "outputs": [
    {
     "name": "stdout",
     "output_type": "stream",
     "text": [
      "apple\n",
      "banana\n",
      "cherry\n",
      "mango\n"
     ]
    }
   ],
   "source": [
    "# Loop through a List\n",
    "fruits=['apple','banana','cherry','mango']\n",
    "for x in fruits:\n",
    "    print(x)\n"
   ]
  },
  {
   "cell_type": "code",
   "execution_count": 79,
   "metadata": {},
   "outputs": [
    {
     "name": "stdout",
     "output_type": "stream",
     "text": [
      "yes,'banana' is in the fruits list \n"
     ]
    }
   ],
   "source": [
    "# Check the item is exists\n",
    "fruits=['apple','banana','cherry','mango']\n",
    "if 'banana' in fruits:\n",
    "    print(\"yes,'banana' is in the fruits list \")\n",
    "else: \n",
    "    print('No banana is not in list')"
   ]
  },
  {
   "cell_type": "code",
   "execution_count": 80,
   "metadata": {},
   "outputs": [
    {
     "name": "stdout",
     "output_type": "stream",
     "text": [
      "4\n"
     ]
    }
   ],
   "source": [
    "# List lenght\n",
    "fruits=['apple','banana','cherry','mango']\n",
    "print(len(fruits))"
   ]
  },
  {
   "cell_type": "code",
   "execution_count": 81,
   "metadata": {},
   "outputs": [
    {
     "name": "stdout",
     "output_type": "stream",
     "text": [
      "['apple', 'banana', 'cherry', 'mango', 'orange']\n"
     ]
    }
   ],
   "source": [
    "# Add Items in List using the append() method toappend an item\n",
    "fruits=['apple','banana','cherry','mango']\n",
    "fruits.append('orange')\n",
    "print(fruits)"
   ]
  },
  {
   "cell_type": "code",
   "execution_count": 83,
   "metadata": {},
   "outputs": [
    {
     "name": "stdout",
     "output_type": "stream",
     "text": [
      "['orange', 'apple', 'banana', 'cherry', 'mango']\n",
      "['orange', 'orange', 'apple', 'banana', 'cherry', 'mango']\n"
     ]
    }
   ],
   "source": [
    "# To add  an item at the specified index use the insert() method\n",
    "fruits=['apple','banana','cherry','mango']\n",
    "fruits.insert(0,'orange')\n",
    "print(fruits)\n",
    "fruits.insert(1,'orange')\n",
    "print(fruits)"
   ]
  },
  {
   "cell_type": "code",
   "execution_count": 92,
   "metadata": {},
   "outputs": [
    {
     "name": "stdout",
     "output_type": "stream",
     "text": [
      "['banana', 'cherry', 'mango']\n",
      "['cherry', 'mango']\n"
     ]
    }
   ],
   "source": [
    "# remove item , there are several method to remove items from alist\n",
    "fruits=['apple','banana','cherry','mango']\n",
    "fruits.remove('apple')\n",
    "print(fruits)\n",
    "fruits.remove('banana') # only one item is remove \n",
    "print(fruits)"
   ]
  },
  {
   "cell_type": "code",
   "execution_count": 95,
   "metadata": {},
   "outputs": [
    {
     "name": "stdout",
     "output_type": "stream",
     "text": [
      "['banana', 'cherry', 'mango']\n",
      "['banana', 'mango']\n"
     ]
    }
   ],
   "source": [
    "# Use of del ,The del keyword remove the specified index:\n",
    "fruits=['apple','banana','cherry','mango']\n",
    "del fruits[0]\n",
    "print(fruits)\n",
    "del fruits[1]\n",
    "print(fruits)"
   ]
  },
  {
   "cell_type": "code",
   "execution_count": 96,
   "metadata": {},
   "outputs": [
    {
     "name": "stdout",
     "output_type": "stream",
     "text": [
      "[]\n"
     ]
    }
   ],
   "source": [
    "# Clear ,The clear() method empties the list\n",
    "fruits=['apple','banana','cherry','mango']\n",
    "fruits.clear()\n",
    "print(fruits)"
   ]
  },
  {
   "cell_type": "code",
   "execution_count": 98,
   "metadata": {},
   "outputs": [
    {
     "name": "stdout",
     "output_type": "stream",
     "text": [
      "['apple', 'banana', 'cherry', 'mango']\n"
     ]
    }
   ],
   "source": [
    "# the list() Constructor use a double round brackets.\n",
    "x=list(('apple','banana','cherry','mango'))\n",
    "print(x)"
   ]
  },
  {
   "cell_type": "code",
   "execution_count": 101,
   "metadata": {},
   "outputs": [
    {
     "name": "stdout",
     "output_type": "stream",
     "text": [
      "['apple', 'banana', 'cherry', 'mango']\n"
     ]
    }
   ],
   "source": [
    "# use of copy() method\n",
    "fruits=['apple','banana','cherry','mango']\n",
    "q=fruits.copy()\n",
    "print(q)"
   ]
  },
  {
   "cell_type": "code",
   "execution_count": 104,
   "metadata": {},
   "outputs": [
    {
     "name": "stdout",
     "output_type": "stream",
     "text": [
      "2\n",
      "2\n"
     ]
    }
   ],
   "source": [
    "# Python List count() method\n",
    "fruits=['apple','banana','cherry','mango','cherry']\n",
    "x=fruits.count('cherry')\n",
    "print(x)\n",
    "num=[1,2,3,4,5,6,5,4,3,2,3]\n",
    "a=num.count(2)\n",
    "print(a)"
   ]
  },
  {
   "cell_type": "code",
   "execution_count": 109,
   "metadata": {},
   "outputs": [
    {
     "name": "stdout",
     "output_type": "stream",
     "text": [
      "['apple', 'banana', 'cherry', 'mango', 1, 2, 3, 4]\n",
      "[1, 2, 3, 4, 'apple', 'banana', 'cherry', 'mango']\n"
     ]
    }
   ],
   "source": [
    "# Python List extend() method\n",
    "fruits1=['apple','banana','cherry','mango']\n",
    "nums1=[1,2,3,4]\n",
    "fruits1.extend(nums1)\n",
    "print(fruits1)\n",
    "fruits2=['apple','banana','cherry','mango']\n",
    "nums2=[1,2,3,4]\n",
    "nums2.extend(fruits2)\n",
    "print(nums2)"
   ]
  },
  {
   "cell_type": "code",
   "execution_count": 111,
   "metadata": {},
   "outputs": [
    {
     "name": "stdout",
     "output_type": "stream",
     "text": [
      "1\n",
      "4\n"
     ]
    }
   ],
   "source": [
    "# Python List index() method\n",
    "fruits1=['apple','banana','cherry','mango']\n",
    "x=fruits.index('banana')\n",
    "print(x)\n",
    "num=[1,2,3,4,5,6,7]\n",
    "a=num.index(5)\n",
    "print(a)"
   ]
  },
  {
   "cell_type": "code",
   "execution_count": 118,
   "metadata": {},
   "outputs": [
    {
     "name": "stdout",
     "output_type": "stream",
     "text": [
      "['banana', 'cherry', 'mango']\n",
      "22\n"
     ]
    }
   ],
   "source": [
    "# Python List pop() method remove the element by indexing number\n",
    "fruits=['apple','banana','cherry','mango']\n",
    "fruits.pop(0)\n",
    "print(fruits)\n",
    "number=[22,33,44,55]\n",
    "q=number.pop(0) # return the removed element\n",
    "print(q)"
   ]
  },
  {
   "cell_type": "code",
   "execution_count": 121,
   "metadata": {},
   "outputs": [
    {
     "name": "stdout",
     "output_type": "stream",
     "text": [
      "['mango', 'cherry', 'banana', 'apple']\n"
     ]
    }
   ],
   "source": [
    "# Python List reverse() method\n",
    "fruits1=['apple','banana','cherry','mango']\n",
    "fruits1.reverse()\n",
    "print(fruits1)"
   ]
  },
  {
   "cell_type": "code",
   "execution_count": 129,
   "metadata": {},
   "outputs": [
    {
     "name": "stdout",
     "output_type": "stream",
     "text": [
      "[1, 3, 4, 5, 6, 44, 78]\n",
      "['bmw', 'ford', 'volvo']\n",
      "['volvo', 'ford', 'bmw']\n"
     ]
    }
   ],
   "source": [
    "# python List sort() method arrange in increasing order by number\n",
    "numbers=[1,4,3,5,6,78,44]\n",
    "numbers.sort()\n",
    "print(numbers)\n",
    "car=['ford','bmw','volvo']\n",
    "car.sort()\n",
    "print(car)\n",
    "car1=['ford','bmw','volvo']\n",
    "car1.sort(reverse=True)\n",
    "print(car1)"
   ]
  },
  {
   "cell_type": "markdown",
   "metadata": {},
   "source": [
    "# Python Tuples"
   ]
  },
  {
   "cell_type": "code",
   "execution_count": 131,
   "metadata": {},
   "outputs": [
    {
     "name": "stdout",
     "output_type": "stream",
     "text": [
      "('rana', 'shyam', 'akash', 'gagan')\n",
      "shyam\n"
     ]
    }
   ],
   "source": [
    "# A tuple is a collection which is ordered and unchangeable. In python tuple are written with round brackets.\n",
    "name=('rana','shyam','akash','gagan')\n",
    "print(name)\n",
    "print(name[1]) # Access tuple items"
   ]
  },
  {
   "cell_type": "code",
   "execution_count": 135,
   "metadata": {},
   "outputs": [
    {
     "ename": "TypeError",
     "evalue": "'tuple' object does not support item assignment",
     "output_type": "error",
     "traceback": [
      "\u001b[1;31m---------------------------------------------------------------------------\u001b[0m",
      "\u001b[1;31mTypeError\u001b[0m                                 Traceback (most recent call last)",
      "\u001b[1;32m<ipython-input-135-c3124ea46470>\u001b[0m in \u001b[0;36m<module>\u001b[1;34m\u001b[0m\n\u001b[0;32m      1\u001b[0m \u001b[1;31m# Change tuple values\u001b[0m\u001b[1;33m\u001b[0m\u001b[1;33m\u001b[0m\u001b[1;33m\u001b[0m\u001b[0m\n\u001b[0;32m      2\u001b[0m \u001b[0mname\u001b[0m\u001b[1;33m=\u001b[0m\u001b[1;33m(\u001b[0m\u001b[1;34m'rana'\u001b[0m\u001b[1;33m,\u001b[0m\u001b[1;34m'shyam'\u001b[0m\u001b[1;33m,\u001b[0m\u001b[1;34m'akash'\u001b[0m\u001b[1;33m,\u001b[0m\u001b[1;34m'gagan'\u001b[0m\u001b[1;33m)\u001b[0m\u001b[1;33m\u001b[0m\u001b[1;33m\u001b[0m\u001b[0m\n\u001b[1;32m----> 3\u001b[1;33m \u001b[0mname\u001b[0m\u001b[1;33m[\u001b[0m\u001b[1;36m1\u001b[0m\u001b[1;33m]\u001b[0m\u001b[1;33m=\u001b[0m\u001b[1;34m'ravi'\u001b[0m \u001b[1;31m# we can not change the value\u001b[0m\u001b[1;33m\u001b[0m\u001b[1;33m\u001b[0m\u001b[0m\n\u001b[0m\u001b[0;32m      4\u001b[0m \u001b[0mprint\u001b[0m\u001b[1;33m(\u001b[0m\u001b[0mname\u001b[0m\u001b[1;33m)\u001b[0m\u001b[1;33m\u001b[0m\u001b[1;33m\u001b[0m\u001b[0m\n",
      "\u001b[1;31mTypeError\u001b[0m: 'tuple' object does not support item assignment"
     ]
    }
   ],
   "source": [
    "# Change tuple values\n",
    "name=('rana','shyam','akash','gagan')\n",
    "name[1]='ravi' # we can not change the value\n",
    "print(name)"
   ]
  },
  {
   "cell_type": "code",
   "execution_count": 136,
   "metadata": {},
   "outputs": [
    {
     "name": "stdout",
     "output_type": "stream",
     "text": [
      "rana\n",
      "shyam\n",
      "akash\n",
      "gagan\n"
     ]
    }
   ],
   "source": [
    "# Loop through a tuple\n",
    "name=('rana','shyam','akash','gagan')\n",
    "for x in name:\n",
    "    print(x)"
   ]
  },
  {
   "cell_type": "code",
   "execution_count": 138,
   "metadata": {},
   "outputs": [
    {
     "name": "stdout",
     "output_type": "stream",
     "text": [
      "yes\n"
     ]
    }
   ],
   "source": [
    "# Check if item exixts\n",
    "name=('rana','shyam','akash','gagan')\n",
    "if 'rana' in name:\n",
    "    print('yes')"
   ]
  },
  {
   "cell_type": "code",
   "execution_count": 139,
   "metadata": {},
   "outputs": [
    {
     "name": "stdout",
     "output_type": "stream",
     "text": [
      "4\n"
     ]
    }
   ],
   "source": [
    "# Tuple Lenght\n",
    "name=('rana','shyam','akash','gagan')\n",
    "print(len(name))"
   ]
  },
  {
   "cell_type": "code",
   "execution_count": 140,
   "metadata": {},
   "outputs": [
    {
     "ename": "TypeError",
     "evalue": "'tuple' object does not support item assignment",
     "output_type": "error",
     "traceback": [
      "\u001b[1;31m---------------------------------------------------------------------------\u001b[0m",
      "\u001b[1;31mTypeError\u001b[0m                                 Traceback (most recent call last)",
      "\u001b[1;32m<ipython-input-140-ffbec09d7789>\u001b[0m in \u001b[0;36m<module>\u001b[1;34m\u001b[0m\n\u001b[0;32m      1\u001b[0m \u001b[1;31m# Add items\u001b[0m\u001b[1;33m\u001b[0m\u001b[1;33m\u001b[0m\u001b[1;33m\u001b[0m\u001b[0m\n\u001b[0;32m      2\u001b[0m \u001b[0mname\u001b[0m\u001b[1;33m=\u001b[0m\u001b[1;33m(\u001b[0m\u001b[1;34m'rana'\u001b[0m\u001b[1;33m,\u001b[0m\u001b[1;34m'shyam'\u001b[0m\u001b[1;33m,\u001b[0m\u001b[1;34m'akash'\u001b[0m\u001b[1;33m,\u001b[0m\u001b[1;34m'gagan'\u001b[0m\u001b[1;33m)\u001b[0m\u001b[1;33m\u001b[0m\u001b[1;33m\u001b[0m\u001b[0m\n\u001b[1;32m----> 3\u001b[1;33m \u001b[0mname\u001b[0m\u001b[1;33m[\u001b[0m\u001b[1;36m2\u001b[0m\u001b[1;33m]\u001b[0m\u001b[1;33m=\u001b[0m\u001b[1;34m'tata'\u001b[0m\u001b[1;33m\u001b[0m\u001b[1;33m\u001b[0m\u001b[0m\n\u001b[0m\u001b[0;32m      4\u001b[0m \u001b[0mprint\u001b[0m\u001b[1;33m(\u001b[0m\u001b[0mname\u001b[0m\u001b[1;33m)\u001b[0m\u001b[1;33m\u001b[0m\u001b[1;33m\u001b[0m\u001b[0m\n",
      "\u001b[1;31mTypeError\u001b[0m: 'tuple' object does not support item assignment"
     ]
    }
   ],
   "source": [
    "# Add items, we can not change and remove items\n",
    "name=('rana','shyam','akash','gagan')\n",
    "name[2]='tata'\n",
    "print(name)"
   ]
  },
  {
   "cell_type": "code",
   "execution_count": 143,
   "metadata": {},
   "outputs": [
    {
     "ename": "SyntaxError",
     "evalue": "can't delete function call (<ipython-input-143-10e4c15d2baa>, line 3)",
     "output_type": "error",
     "traceback": [
      "\u001b[1;36m  File \u001b[1;32m\"<ipython-input-143-10e4c15d2baa>\"\u001b[1;36m, line \u001b[1;32m3\u001b[0m\n\u001b[1;33m    del name(1)\u001b[0m\n\u001b[1;37m       ^\u001b[0m\n\u001b[1;31mSyntaxError\u001b[0m\u001b[1;31m:\u001b[0m can't delete function call\n"
     ]
    }
   ],
   "source": [
    "# Use of del keyword\n",
    "name=('rana','shyam','akash','gagan')\n",
    "del name(1) # we can not use del keyword\n",
    "print(name)"
   ]
  },
  {
   "cell_type": "code",
   "execution_count": 144,
   "metadata": {},
   "outputs": [
    {
     "name": "stdout",
     "output_type": "stream",
     "text": [
      "('rana', 'shyam', 'akash', 'gagan')\n"
     ]
    }
   ],
   "source": [
    "# The tuple() Constructor\n",
    "name=tuple(('rana','shyam','akash','gagan'))\n",
    "print(name)"
   ]
  },
  {
   "cell_type": "code",
   "execution_count": 146,
   "metadata": {},
   "outputs": [
    {
     "name": "stdout",
     "output_type": "stream",
     "text": [
      "3\n",
      "2\n"
     ]
    }
   ],
   "source": [
    "# Python Tuple count() method\n",
    "num=(1,2,3,4,5,5,6,5,4,3,2,3,4,2,1)\n",
    "x=num.count(2)\n",
    "z=num.count(1)\n",
    "print(x)\n",
    "print(z)"
   ]
  },
  {
   "cell_type": "code",
   "execution_count": 147,
   "metadata": {},
   "outputs": [
    {
     "name": "stdout",
     "output_type": "stream",
     "text": [
      "1\n"
     ]
    }
   ],
   "source": [
    "# Python tuple index() method\n",
    "num=(1,2,3,4,5,6,7,8,7,6,3,4,5,2,3)\n",
    "x=num.index(2)\n",
    "print(x)"
   ]
  },
  {
   "cell_type": "markdown",
   "metadata": {},
   "source": [
    "# Python Set"
   ]
  },
  {
   "cell_type": "code",
   "execution_count": 1,
   "metadata": {},
   "outputs": [
    {
     "name": "stdout",
     "output_type": "stream",
     "text": [
      "{'banana', 'apple', 'cherry'}\n"
     ]
    }
   ],
   "source": [
    "# A set s a collection which is unordered and unindexed. In pyhon set are written with curly brackets.\n",
    "thisset = {'apple','banana','cherry'}\n",
    "print(thisset)"
   ]
  },
  {
   "cell_type": "code",
   "execution_count": 2,
   "metadata": {},
   "outputs": [
    {
     "name": "stdout",
     "output_type": "stream",
     "text": [
      "banana\n",
      "apple\n",
      "cherry\n"
     ]
    }
   ],
   "source": [
    "# Access items\n",
    "thisset = {'apple','banana','cherry'}\n",
    "for x in thisset:\n",
    "    print(x)"
   ]
  },
  {
   "cell_type": "code",
   "execution_count": 3,
   "metadata": {},
   "outputs": [
    {
     "name": "stdout",
     "output_type": "stream",
     "text": [
      "True\n"
     ]
    }
   ],
   "source": [
    "thisset = {'apple','banana','cherry'}\n",
    "print('banana' in thisset)"
   ]
  },
  {
   "cell_type": "code",
   "execution_count": 8,
   "metadata": {},
   "outputs": [
    {
     "name": "stdout",
     "output_type": "stream",
     "text": [
      "{'orange', 'banana', 'apple', 'cherry'}\n"
     ]
    }
   ],
   "source": [
    "# Add items to set using add() method:\n",
    "thisset = {'apple','banana','cherry'}\n",
    "thisset.add('orange')\n",
    "print(thisset)"
   ]
  },
  {
   "cell_type": "code",
   "execution_count": 10,
   "metadata": {},
   "outputs": [
    {
     "name": "stdout",
     "output_type": "stream",
     "text": [
      "{'grapes', 'orange', 'mango', 'banana', 'apple', 'cherry'}\n",
      "6\n"
     ]
    }
   ],
   "source": [
    "# Add multiple items to a set, using the update() method:\n",
    "thisset ={'apple','banana','cherry'}\n",
    "thisset.update(['orange','mango','grapes'])\n",
    "print(thisset)\n",
    "print(len(thisset))"
   ]
  },
  {
   "cell_type": "code",
   "execution_count": 13,
   "metadata": {},
   "outputs": [
    {
     "name": "stdout",
     "output_type": "stream",
     "text": [
      "{'apple', 'cherry'}\n",
      "{'apple', 'cherry'}\n"
     ]
    }
   ],
   "source": [
    "# To remove an item in a set, use the remove() ,or the dischard() method.\n",
    "thisset ={'apple','banana','cherry'}\n",
    "thisset.remove('banana')\n",
    "print(thisset)\n",
    "thisset ={'apple','banana','cherry'}\n",
    "thisset.discard('banana')\n",
    "print(thisset)"
   ]
  },
  {
   "cell_type": "code",
   "execution_count": 19,
   "metadata": {},
   "outputs": [
    {
     "name": "stdout",
     "output_type": "stream",
     "text": [
      "banana\n",
      "{'apple', 'cherry'}\n"
     ]
    }
   ],
   "source": [
    "# Remove the last item by using the pop() method\n",
    "thisset ={'apple','banana','cherry'}\n",
    "x=thisset.pop()\n",
    "print(x)\n",
    "print(thisset)"
   ]
  },
  {
   "cell_type": "code",
   "execution_count": 20,
   "metadata": {},
   "outputs": [
    {
     "name": "stdout",
     "output_type": "stream",
     "text": [
      "set()\n"
     ]
    }
   ],
   "source": [
    "# The clear() method empties the set:\n",
    "thisset ={'apple','banana','cherry'}\n",
    "thisset.clear()\n",
    "print(thisset)"
   ]
  },
  {
   "cell_type": "code",
   "execution_count": 23,
   "metadata": {},
   "outputs": [
    {
     "ename": "NameError",
     "evalue": "name 'thisset' is not defined",
     "output_type": "error",
     "traceback": [
      "\u001b[1;31m---------------------------------------------------------------------------\u001b[0m",
      "\u001b[1;31mNameError\u001b[0m                                 Traceback (most recent call last)",
      "\u001b[1;32m<ipython-input-23-4571c39eefcc>\u001b[0m in \u001b[0;36m<module>\u001b[1;34m\u001b[0m\n\u001b[0;32m      2\u001b[0m \u001b[0mthisset\u001b[0m \u001b[1;33m=\u001b[0m\u001b[1;33m{\u001b[0m\u001b[1;34m'apple'\u001b[0m\u001b[1;33m,\u001b[0m\u001b[1;34m'banana'\u001b[0m\u001b[1;33m,\u001b[0m\u001b[1;34m'cherry'\u001b[0m\u001b[1;33m}\u001b[0m\u001b[1;33m\u001b[0m\u001b[1;33m\u001b[0m\u001b[0m\n\u001b[0;32m      3\u001b[0m \u001b[1;32mdel\u001b[0m \u001b[0mthisset\u001b[0m\u001b[1;33m\u001b[0m\u001b[1;33m\u001b[0m\u001b[0m\n\u001b[1;32m----> 4\u001b[1;33m \u001b[0mprint\u001b[0m\u001b[1;33m(\u001b[0m\u001b[0mthisset\u001b[0m\u001b[1;33m)\u001b[0m\u001b[1;33m\u001b[0m\u001b[1;33m\u001b[0m\u001b[0m\n\u001b[0m",
      "\u001b[1;31mNameError\u001b[0m: name 'thisset' is not defined"
     ]
    }
   ],
   "source": [
    "# The del keyword will delet the set completely\n",
    "thisset ={'apple','banana','cherry'}\n",
    "del thisset\n",
    "print(thisset)"
   ]
  },
  {
   "cell_type": "code",
   "execution_count": 24,
   "metadata": {},
   "outputs": [
    {
     "name": "stdout",
     "output_type": "stream",
     "text": [
      "{'banana', 'apple', 'cherry'}\n"
     ]
    }
   ],
   "source": [
    "# The set() Constructor\n",
    "thisset =set(('apple','banana','cherry'))\n",
    "print(thisset)"
   ]
  },
  {
   "cell_type": "code",
   "execution_count": 25,
   "metadata": {},
   "outputs": [
    {
     "name": "stdout",
     "output_type": "stream",
     "text": [
      "{'banana', 'apple', 'cherry'}\n"
     ]
    }
   ],
   "source": [
    "# Python set copy() method\n",
    "thisset ={'apple','banana','cherry'}\n",
    "x=thisset.copy()\n",
    "print(x)"
   ]
  },
  {
   "cell_type": "code",
   "execution_count": 28,
   "metadata": {},
   "outputs": [
    {
     "name": "stdout",
     "output_type": "stream",
     "text": [
      "{'banana', 'cherry'}\n",
      "{'microsoft', 'google'}\n"
     ]
    }
   ],
   "source": [
    "# Python set difference() method\n",
    "x = {\"apple\", \"banana\", \"cherry\"}\n",
    "y = {\"google\", \"microsoft\", \"apple\"}\n",
    "z = x.difference(y) \n",
    "q=y.difference(x)\n",
    "print(z)\n",
    "print(q)"
   ]
  },
  {
   "cell_type": "code",
   "execution_count": 29,
   "metadata": {},
   "outputs": [
    {
     "name": "stdout",
     "output_type": "stream",
     "text": [
      "{'banana', 'cherry'}\n"
     ]
    }
   ],
   "source": [
    "#Python set difference_update()\n",
    "x = {\"apple\", \"banana\", \"cherry\"}\n",
    "y = {\"google\", \"microsoft\", \"apple\"}\n",
    "x.difference_update(y) \n",
    "print(x)"
   ]
  },
  {
   "cell_type": "code",
   "execution_count": 31,
   "metadata": {},
   "outputs": [
    {
     "name": "stdout",
     "output_type": "stream",
     "text": [
      "{'apple'}\n",
      "{'c'}\n"
     ]
    }
   ],
   "source": [
    "# python set intersection() method\n",
    "x = {\"apple\", \"banana\", \"cherry\"}\n",
    "y = {\"google\", \"microsoft\", \"apple\"}\n",
    "z = x.intersection(y) \n",
    "print(z)\n",
    "x = {\"a\", \"b\", \"c\"}\n",
    "y = {\"c\", \"d\", \"e\"}\n",
    "z = {\"f\", \"g\", \"c\"}\n",
    "result = x.intersection(y, z)\n",
    "print(result)"
   ]
  },
  {
   "cell_type": "code",
   "execution_count": 34,
   "metadata": {},
   "outputs": [
    {
     "name": "stdout",
     "output_type": "stream",
     "text": [
      "{'apple'}\n",
      "{'c'}\n"
     ]
    }
   ],
   "source": [
    "# Remove the items that is not present in both x, and set y\n",
    "x = {\"apple\", \"banana\", \"cherry\"}\n",
    "y = {\"google\", \"microsoft\", \"apple\"}\n",
    "x.intersection_update(y) \n",
    "print(x)\n",
    "x = {\"a\", \"b\", \"c\"}\n",
    "y = {\"c\", \"d\", \"e\"}\n",
    "z = {\"f\", \"g\", \"c\"}\n",
    "x.intersection_update(y, z)\n",
    "print(x)"
   ]
  },
  {
   "cell_type": "code",
   "execution_count": 36,
   "metadata": {},
   "outputs": [
    {
     "name": "stdout",
     "output_type": "stream",
     "text": [
      "True\n",
      "False\n"
     ]
    }
   ],
   "source": [
    "#Return True if no items in set x is present in set y:\n",
    "x = {\"apple\", \"banana\", \"cherry\"}\n",
    "y = {\"google\", \"microsoft\", \"facebook\"}\n",
    "z = x.isdisjoint(y) \n",
    "print(z)\n",
    "x = {\"apple\", \"banana\", \"cherry\"}\n",
    "y = {\"google\", \"microsoft\", \"apple\"}\n",
    "z = x.isdisjoint(y) \n",
    "print(z)"
   ]
  },
  {
   "cell_type": "code",
   "execution_count": 37,
   "metadata": {},
   "outputs": [
    {
     "name": "stdout",
     "output_type": "stream",
     "text": [
      "True\n"
     ]
    }
   ],
   "source": [
    "#Return True if all items set x are present in set y:\n",
    "x = {\"a\", \"b\", \"c\"}\n",
    "y = {\"f\", \"e\", \"d\", \"c\", \"b\", \"a\"}\n",
    "z = x.issubset(y) \n",
    "print(z)"
   ]
  },
  {
   "cell_type": "code",
   "execution_count": 38,
   "metadata": {},
   "outputs": [
    {
     "name": "stdout",
     "output_type": "stream",
     "text": [
      "True\n"
     ]
    }
   ],
   "source": [
    "# Use of issuperset() method\n",
    "x = {\"f\", \"e\", \"d\", \"c\", \"b\", \"a\"}\n",
    "y = {\"a\", \"b\", \"c\"}\n",
    "z = x.issuperset(y) \n",
    "print(z)"
   ]
  },
  {
   "cell_type": "code",
   "execution_count": 39,
   "metadata": {},
   "outputs": [
    {
     "name": "stdout",
     "output_type": "stream",
     "text": [
      "{'microsoft', 'banana', 'google', 'apple', 'cherry'}\n"
     ]
    }
   ],
   "source": [
    "#Python Set union() Method \n",
    "x = {\"apple\", \"banana\", \"cherry\"}\n",
    "y = {\"google\", \"microsoft\", \"apple\"}\n",
    "\n",
    "z = x.union(y) \n",
    "\n",
    "print(z)"
   ]
  },
  {
   "cell_type": "markdown",
   "metadata": {},
   "source": [
    "# Python Dictionaries"
   ]
  },
  {
   "cell_type": "code",
   "execution_count": 26,
   "metadata": {
    "scrolled": true
   },
   "outputs": [
    {
     "name": "stdout",
     "output_type": "stream",
     "text": [
      "{'ram': 'shyam', 'akash': 'alok', 'naveen': 'sohan'}\n",
      "{'num1': 10, '100': 20, 'num3': 30, 'num4': 40}\n"
     ]
    }
   ],
   "source": [
    "# Python dictionary is a collection which is unordered ,changeable and indexed. in python dictionaries are written with curly bracket,and they have keys and values\n",
    "numbers={'num1':10,'100':20,'num3':30,'num4':40}\n",
    "names={'ram':'shyam','akash':'alok','naveen':'sohan'}\n",
    "print(names) # we can use int or str\n",
    "print(numbers)"
   ]
  },
  {
   "cell_type": "code",
   "execution_count": 5,
   "metadata": {},
   "outputs": [
    {
     "name": "stdout",
     "output_type": "stream",
     "text": [
      "40\n",
      "40\n"
     ]
    }
   ],
   "source": [
    "# Accessing items, this is also called get() method\n",
    "numbers={'num1':10,'num2':20,'num3':30,'num4':40}\n",
    "x=numbers['num4']\n",
    "z=numbers.get('num4')\n",
    "print(x)\n",
    "print(z)\n",
    "          "
   ]
  },
  {
   "cell_type": "code",
   "execution_count": 6,
   "metadata": {},
   "outputs": [
    {
     "name": "stdout",
     "output_type": "stream",
     "text": [
      "{'num1': 10, 'num2': 20, 'num3': 100, 'num4': 40}\n"
     ]
    }
   ],
   "source": [
    "#Change the value\n",
    "numbers={'num1':10,'num2':20,'num3':30,'num4':40}\n",
    "numbers['num3']=100\n",
    "print(numbers)"
   ]
  },
  {
   "cell_type": "code",
   "execution_count": 14,
   "metadata": {},
   "outputs": [
    {
     "name": "stdout",
     "output_type": "stream",
     "text": [
      "num1\n",
      "num2\n",
      "num3\n",
      "num4\n"
     ]
    }
   ],
   "source": [
    "# Loop through a dictionary\n",
    "numbers={'num1':10,'num2':20,'num3':30,'num4':40}\n",
    "for x in numbers:\n",
    "    print(x)\n",
    "    #print(numbers[x])"
   ]
  },
  {
   "cell_type": "code",
   "execution_count": 15,
   "metadata": {},
   "outputs": [
    {
     "name": "stdout",
     "output_type": "stream",
     "text": [
      "10\n",
      "20\n",
      "30\n",
      "40\n"
     ]
    }
   ],
   "source": [
    "# Loop through a dictionary\n",
    "numbers={'num1':10,'num2':20,'num3':30,'num4':40}\n",
    "for x in numbers:\n",
    "    print(numbers[x])"
   ]
  },
  {
   "cell_type": "code",
   "execution_count": 16,
   "metadata": {},
   "outputs": [
    {
     "name": "stdout",
     "output_type": "stream",
     "text": [
      "num1\n",
      "10\n",
      "num2\n",
      "20\n",
      "num3\n",
      "30\n",
      "num4\n",
      "40\n"
     ]
    }
   ],
   "source": [
    "# Loop through a dictionary\n",
    "numbers={'num1':10,'num2':20,'num3':30,'num4':40}\n",
    "for x in numbers:\n",
    "    print(x)\n",
    "    print(numbers[x])"
   ]
  },
  {
   "cell_type": "code",
   "execution_count": 18,
   "metadata": {},
   "outputs": [
    {
     "name": "stdout",
     "output_type": "stream",
     "text": [
      "10\n",
      "20\n",
      "30\n",
      "40\n"
     ]
    }
   ],
   "source": [
    "# you can also use the value() function to return values of a dictionary\n",
    "# Loop through a dictionary\n",
    "numbers={'num1':10,'num2':20,'num3':30,'num4':40}\n",
    "for x in numbers.values():\n",
    "    print(x)\n",
    "    "
   ]
  },
  {
   "cell_type": "code",
   "execution_count": 23,
   "metadata": {},
   "outputs": [
    {
     "name": "stdout",
     "output_type": "stream",
     "text": [
      "yes ,'num2' is one of the keys in the numbers dictionary\n"
     ]
    }
   ],
   "source": [
    "# Check if key exists\n",
    "# Loop through a dictionary\n",
    "numbers={'num1':10,'num2':20,'num3':30,'num4':40}\n",
    "if 'num2' in numbers:\n",
    "    print(\"yes ,'num2' is one of the keys in the numbers dictionary\")"
   ]
  },
  {
   "cell_type": "code",
   "execution_count": 24,
   "metadata": {},
   "outputs": [
    {
     "name": "stdout",
     "output_type": "stream",
     "text": [
      "4\n"
     ]
    }
   ],
   "source": [
    "# Dictionary Length\n",
    "# Loop through a dictionary\n",
    "numbers={'num1':10,'num2':20,'num3':30,'num4':40}\n",
    "print(len(numbers))"
   ]
  },
  {
   "cell_type": "code",
   "execution_count": 29,
   "metadata": {},
   "outputs": [
    {
     "name": "stdout",
     "output_type": "stream",
     "text": [
      "{'num1': 10, 'num2': 20, 'num3': 30, 'num4': 40, 'num5': 100}\n",
      "{'num1': 10, 'num2': 20, 'num3': 30, 'num4': 40, 'num5': 100, 'math': 'class'}\n"
     ]
    }
   ],
   "source": [
    "# Adding items\n",
    "numbers={'num1':10,'num2':20,'num3':30,'num4':40}\n",
    "numbers['num5']=100\n",
    "print(numbers)\n",
    "numbers['math']='class'\n",
    "print(numbers)\n"
   ]
  },
  {
   "cell_type": "code",
   "execution_count": 31,
   "metadata": {},
   "outputs": [
    {
     "name": "stdout",
     "output_type": "stream",
     "text": [
      "{'num1': 10, 'num2': 20, 'num3': 30}\n",
      "{'num1': 10, 'num2': 20, 'num3': 30}\n"
     ]
    }
   ],
   "source": [
    "# Removing Items use pop() nad we can use popitem() for removing last items\n",
    "numbers={'num1':10,'num2':20,'num3':30,'num4':40}\n",
    "numbers.pop('num4')\n",
    "print(numbers)\n",
    "numbers1={'num1':10,'num2':20,'num3':30,'num4':40}\n",
    "numbers1.popitem()\n",
    "print(numbers1)"
   ]
  },
  {
   "cell_type": "code",
   "execution_count": 32,
   "metadata": {},
   "outputs": [
    {
     "name": "stdout",
     "output_type": "stream",
     "text": [
      "{'num2': 20, 'num3': 30, 'num4': 40}\n"
     ]
    }
   ],
   "source": [
    "# Del keyword removes the item with the specified key name:\n",
    "numbers={'num1':10,'num2':20,'num3':30,'num4':40}\n",
    "del numbers['num1']\n",
    "print(numbers)"
   ]
  },
  {
   "cell_type": "code",
   "execution_count": 33,
   "metadata": {},
   "outputs": [
    {
     "name": "stdout",
     "output_type": "stream",
     "text": [
      "{'brand': 'Ford', 'model': 'Mustang', 'year': 1964}\n"
     ]
    }
   ],
   "source": [
    "# The dict() Constructor\n",
    "# It is also possible to use the dict() constructor to make a dictonary\n",
    "thisdict = dict(brand=\"Ford\", model=\"Mustang\", year=1964)\n",
    "print(thisdict)"
   ]
  },
  {
   "cell_type": "code",
   "execution_count": 35,
   "metadata": {},
   "outputs": [
    {
     "name": "stdout",
     "output_type": "stream",
     "text": [
      "{'brand': 'Ford', 'model': 'Mustang', 'year': 1964, 'color': 'White', 'num': 100}\n"
     ]
    }
   ],
   "source": [
    "# Python dictionary update() method: more than one items we can update\n",
    "car = {\"brand\": \"Ford\",\"model\": \"Mustang\", \"year\": 1964}\n",
    "car.update({\"color\": \"White\",'num':100})\n",
    "print(car)"
   ]
  },
  {
   "cell_type": "code",
   "execution_count": 37,
   "metadata": {},
   "outputs": [
    {
     "name": "stdout",
     "output_type": "stream",
     "text": [
      "dict_values(['Ford', 'Mustang', 1964])\n"
     ]
    }
   ],
   "source": [
    "#  use Values() method:\n",
    "car = {\n",
    "  \"brand\": \"Ford\",\n",
    "  \"model\": \"Mustang\",\n",
    "  \"year\": 1964}\n",
    "x = car.values()\n",
    "print(x)\n"
   ]
  },
  {
   "cell_type": "code",
   "execution_count": 38,
   "metadata": {},
   "outputs": [
    {
     "name": "stdout",
     "output_type": "stream",
     "text": [
      "{}\n"
     ]
    }
   ],
   "source": [
    "# use of clear() method\n",
    "car = {\"brand\": \"Ford\",\"model\": \"Mustang\", \"year\": 1964}\n",
    "car.clear()\n",
    "print(car)"
   ]
  },
  {
   "cell_type": "code",
   "execution_count": 39,
   "metadata": {},
   "outputs": [
    {
     "name": "stdout",
     "output_type": "stream",
     "text": [
      "{'brand': 'Ford', 'model': 'Mustang', 'year': 1964}\n"
     ]
    }
   ],
   "source": [
    "# use of copy() command\n",
    "car = {\"brand\": \"Ford\",\"model\": \"Mustang\", \"year\": 1964}\n",
    "x=car.copy()\n",
    "print(x)"
   ]
  },
  {
   "cell_type": "code",
   "execution_count": 43,
   "metadata": {},
   "outputs": [
    {
     "name": "stdout",
     "output_type": "stream",
     "text": [
      "{'key1': 0, 'key2': 0, 'key3': 0}\n"
     ]
    }
   ],
   "source": [
    "# python dictionary fromkeys()\n",
    "x = ('key1', 'key2', 'key3')\n",
    "y = 0\n",
    "thisdict = dict.fromkeys(x, y)\n",
    "print(thisdict)"
   ]
  },
  {
   "cell_type": "code",
   "execution_count": 47,
   "metadata": {},
   "outputs": [
    {
     "name": "stdout",
     "output_type": "stream",
     "text": [
      "{'key1': 0, 'key2': 0, 'key3': 0}\n"
     ]
    }
   ],
   "source": [
    "# python dictionary fromkeys()\n",
    "x = ('key1', 'key2', 'key3')\n",
    "y = 0\n",
    "z= 10\n",
    "q= 20\n",
    "thisdict = dict.fromkeys(x, y)\n",
    "print(thisdict)"
   ]
  },
  {
   "cell_type": "code",
   "execution_count": 48,
   "metadata": {},
   "outputs": [
    {
     "name": "stdout",
     "output_type": "stream",
     "text": [
      "{'key1': None, 'key2': None, 'key3': None}\n"
     ]
    }
   ],
   "source": [
    "x = ('key1', 'key2', 'key3')\n",
    "thisdict = dict.fromkeys(x)\n",
    "print(thisdict)"
   ]
  },
  {
   "cell_type": "code",
   "execution_count": 49,
   "metadata": {},
   "outputs": [
    {
     "name": "stdout",
     "output_type": "stream",
     "text": [
      "dict_items([('brand', 'Ford'), ('model', 'Mustang'), ('year', 1964)])\n"
     ]
    }
   ],
   "source": [
    "# use python items() command\n",
    "car = {\"brand\": \"Ford\",\"model\": \"Mustang\", \"year\": 1964}\n",
    "x=car.items()\n",
    "print(x)"
   ]
  },
  {
   "cell_type": "code",
   "execution_count": 50,
   "metadata": {},
   "outputs": [
    {
     "name": "stdout",
     "output_type": "stream",
     "text": [
      "dict_keys(['brand', 'model', 'year'])\n"
     ]
    }
   ],
   "source": [
    "#Python Dictionary keys() Method\n",
    "car = {\"brand\": \"Ford\",\"model\": \"Mustang\", \"year\": 1964}\n",
    "x=car.keys()\n",
    "print(x)"
   ]
  },
  {
   "cell_type": "code",
   "execution_count": 51,
   "metadata": {},
   "outputs": [
    {
     "name": "stdout",
     "output_type": "stream",
     "text": [
      "{'brand': 'Ford', 'model': 'Mustang'}\n"
     ]
    }
   ],
   "source": [
    "#Python Dictionary popitem() Method,Remove the last item from the dictionary:\n",
    "car = {\n",
    "  \"brand\": \"Ford\",\n",
    "  \"model\": \"Mustang\",\n",
    "  \"year\": 1964}\n",
    "\n",
    "car.popitem()\n",
    "\n",
    "print(car)"
   ]
  },
  {
   "cell_type": "code",
   "execution_count": 54,
   "metadata": {},
   "outputs": [
    {
     "name": "stdout",
     "output_type": "stream",
     "text": [
      "Mustang\n"
     ]
    }
   ],
   "source": [
    "#Python Dictionary setdefault() Method\n",
    "car = {\"brand\": \"Ford\",\"model\": \"Mustang\", \"year\": 1964}\n",
    "x=car.setdefault('model', 'abcd')\n",
    "print(x)"
   ]
  },
  {
   "cell_type": "code",
   "execution_count": 55,
   "metadata": {},
   "outputs": [
    {
     "name": "stdout",
     "output_type": "stream",
     "text": [
      "abcd\n"
     ]
    }
   ],
   "source": [
    "#Python Dictionary setdefault() Method\n",
    "car = {\"brand\": \"Ford\",\"model\": \"Mustang\", \"year\": 1964}\n",
    "x=car.setdefault('model1', 'abcd')\n",
    "print(x)"
   ]
  },
  {
   "cell_type": "markdown",
   "metadata": {},
   "source": [
    "# Python IF..... Else"
   ]
  },
  {
   "cell_type": "code",
   "execution_count": 1,
   "metadata": {},
   "outputs": [],
   "source": [
    "# Python condition and if statements\n",
    "# Equals: a==b\n",
    "# Not equals: a!=b\n",
    "# Less than  a<b\n",
    "# less than or equal to: a>=b\n",
    "# Greater than: a>b\n",
    "# Gearter than or equal to a>=b"
   ]
  },
  {
   "cell_type": "code",
   "execution_count": 2,
   "metadata": {},
   "outputs": [
    {
     "name": "stdout",
     "output_type": "stream",
     "text": [
      "b is greater than a\n"
     ]
    }
   ],
   "source": [
    "# if statement:\n",
    "a=25\n",
    "b=100\n",
    "if b>a:\n",
    "    print('b is greater than a')"
   ]
  },
  {
   "cell_type": "code",
   "execution_count": 5,
   "metadata": {},
   "outputs": [
    {
     "name": "stdout",
     "output_type": "stream",
     "text": [
      "b is greater than a\n"
     ]
    }
   ],
   "source": [
    "# Elif statement:\n",
    "a=25\n",
    "b=55\n",
    "if b>a:\n",
    "    print('b is greater than a')\n",
    "elif a==b:\n",
    "    print('a and b are equal')"
   ]
  },
  {
   "cell_type": "code",
   "execution_count": 6,
   "metadata": {},
   "outputs": [
    {
     "name": "stdout",
     "output_type": "stream",
     "text": [
      "a is less than b\n"
     ]
    }
   ],
   "source": [
    "# Else statement\n",
    "a=100\n",
    "b=300\n",
    "if a > b:\n",
    "    print('a is greater than b')\n",
    "elif a<b:\n",
    "    print('a is less than b')\n",
    "else:\n",
    "    print(\" a equal to b\")"
   ]
  },
  {
   "cell_type": "code",
   "execution_count": 7,
   "metadata": {},
   "outputs": [
    {
     "name": "stdout",
     "output_type": "stream",
     "text": [
      "a is less than b\n"
     ]
    }
   ],
   "source": [
    "a=20\n",
    "b=45\n",
    "if a>b:\n",
    "    print('a is greater than b')\n",
    "else:\n",
    "    print('a is less than b')"
   ]
  },
  {
   "cell_type": "code",
   "execution_count": 11,
   "metadata": {},
   "outputs": [
    {
     "name": "stdout",
     "output_type": "stream",
     "text": [
      "a is greater than b\n",
      "a\n"
     ]
    }
   ],
   "source": [
    "# use short hand if\n",
    "b,a = 45,50\n",
    "if a>b : print('a is greater than b')\n",
    "print('a') if a>b else print('b')"
   ]
  },
  {
   "cell_type": "code",
   "execution_count": 16,
   "metadata": {},
   "outputs": [
    {
     "name": "stdout",
     "output_type": "stream",
     "text": [
      "False\n"
     ]
    }
   ],
   "source": [
    "# use of logical and , or\n",
    "a ,b ,c = 20.15 ,25.99,15.29\n",
    "if a>b and c>a:\n",
    "    print('Both condition are true')\n",
    "else:\n",
    "    print('False')"
   ]
  },
  {
   "cell_type": "code",
   "execution_count": 17,
   "metadata": {},
   "outputs": [
    {
     "name": "stdout",
     "output_type": "stream",
     "text": [
      "Both condition are True\n"
     ]
    }
   ],
   "source": [
    "a,b,c=15,20,19\n",
    "if a>b or c>a:\n",
    "    print(\"Both condition are True\")\n",
    "else:\n",
    "    print('First is True and second is False')"
   ]
  },
  {
   "cell_type": "markdown",
   "metadata": {},
   "source": [
    "# While loop"
   ]
  },
  {
   "cell_type": "markdown",
   "metadata": {},
   "source": [
    "# Python has two primitive loop commands (while loops, for loops)"
   ]
  },
  {
   "cell_type": "code",
   "execution_count": 2,
   "metadata": {},
   "outputs": [
    {
     "name": "stdout",
     "output_type": "stream",
     "text": [
      "1\n",
      "2\n",
      "3\n",
      "4\n"
     ]
    }
   ],
   "source": [
    "# While loop we can execute a set of statements as long as a condition is true.\n",
    "x=1\n",
    "while x < 5:\n",
    "    print(x)\n",
    "    x+=1"
   ]
  },
  {
   "cell_type": "code",
   "execution_count": 3,
   "metadata": {},
   "outputs": [
    {
     "name": "stdout",
     "output_type": "stream",
     "text": [
      "2\n",
      "3\n",
      "4\n",
      "5\n"
     ]
    }
   ],
   "source": [
    "x=1\n",
    "while x<5:\n",
    "    x+=1\n",
    "    print(x)"
   ]
  },
  {
   "cell_type": "code",
   "execution_count": 19,
   "metadata": {},
   "outputs": [
    {
     "name": "stdout",
     "output_type": "stream",
     "text": [
      "0\n"
     ]
    }
   ],
   "source": [
    "# The break ststement\n",
    "x=0\n",
    "while x < 5:\n",
    "    print(x)\n",
    "    x+=1\n",
    "    break"
   ]
  },
  {
   "cell_type": "code",
   "execution_count": 21,
   "metadata": {},
   "outputs": [
    {
     "name": "stdout",
     "output_type": "stream",
     "text": [
      "0\n",
      "1\n",
      "2\n"
     ]
    }
   ],
   "source": [
    "i=0\n",
    "while i<5:\n",
    "    print(i)\n",
    "    i+=1\n",
    "    if i==3:\n",
    "        break"
   ]
  },
  {
   "cell_type": "code",
   "execution_count": 18,
   "metadata": {},
   "outputs": [
    {
     "name": "stdout",
     "output_type": "stream",
     "text": [
      "1\n",
      "2\n",
      "3\n"
     ]
    }
   ],
   "source": [
    "i=1\n",
    "while i<5:\n",
    "    print(i)\n",
    "    i+=1\n",
    "    if i==4:\n",
    "        break\n",
    "        i+=1"
   ]
  },
  {
   "cell_type": "code",
   "execution_count": 22,
   "metadata": {},
   "outputs": [
    {
     "name": "stdout",
     "output_type": "stream",
     "text": [
      "1\n",
      "2\n",
      "4\n",
      "5\n",
      "6\n"
     ]
    }
   ],
   "source": [
    "# The continue statement\n",
    "i=0\n",
    "while i<6:\n",
    "    i+=1\n",
    "    if i==3:\n",
    "        continue\n",
    "    print(i)"
   ]
  },
  {
   "cell_type": "markdown",
   "metadata": {},
   "source": [
    "# Python For loops"
   ]
  },
  {
   "cell_type": "code",
   "execution_count": 25,
   "metadata": {},
   "outputs": [
    {
     "name": "stdout",
     "output_type": "stream",
     "text": [
      "b\n",
      "a\n",
      "n\n",
      "a\n",
      "n\n",
      "a\n"
     ]
    }
   ],
   "source": [
    "# A for loop is used for iterating over a sequence(that is either a list ,a tuple,a dictionary ,a set or string).\n",
    "# With the for loop we can execute a set of statements, once for each item in a list,tuple,set .\n",
    "# Even string are iterable in the word 'banana'\n",
    "for x in 'banana':\n",
    "    print(x)"
   ]
  },
  {
   "cell_type": "code",
   "execution_count": 27,
   "metadata": {},
   "outputs": [
    {
     "name": "stdout",
     "output_type": "stream",
     "text": [
      "Apple\n",
      "banana\n"
     ]
    }
   ],
   "source": [
    "fruits=['Apple','banana','cherry']\n",
    "for x in fruits:\n",
    "    print(x)\n",
    "    if x=='banana':\n",
    "        break    "
   ]
  },
  {
   "cell_type": "code",
   "execution_count": 30,
   "metadata": {},
   "outputs": [
    {
     "name": "stdout",
     "output_type": "stream",
     "text": [
      "1\n",
      "2\n",
      "3\n"
     ]
    }
   ],
   "source": [
    "# The break statement\n",
    "for i in (1,2,3,4,4):\n",
    "    print(i)\n",
    "    if i==3:\n",
    "        break"
   ]
  },
  {
   "cell_type": "code",
   "execution_count": 31,
   "metadata": {},
   "outputs": [
    {
     "name": "stdout",
     "output_type": "stream",
     "text": [
      "apple\n"
     ]
    }
   ],
   "source": [
    "fruits=['apple','banana','cherry']\n",
    "for x in fruits:\n",
    "    if x == 'banana':\n",
    "         break\n",
    "    print(x)"
   ]
  },
  {
   "cell_type": "code",
   "execution_count": 36,
   "metadata": {},
   "outputs": [
    {
     "name": "stdout",
     "output_type": "stream",
     "text": [
      "apple\n",
      "cherry\n"
     ]
    }
   ],
   "source": [
    "# The continue Statement\n",
    "fruits=['apple','banana','cherry']\n",
    "for x in fruits:\n",
    "    if x=='banana':\n",
    "        continue\n",
    "    print(x)"
   ]
  },
  {
   "cell_type": "markdown",
   "metadata": {},
   "source": [
    "# The range function"
   ]
  },
  {
   "cell_type": "code",
   "execution_count": 37,
   "metadata": {},
   "outputs": [
    {
     "name": "stdout",
     "output_type": "stream",
     "text": [
      "0\n",
      "1\n",
      "2\n",
      "3\n",
      "4\n"
     ]
    }
   ],
   "source": [
    "# To loop through a set of code a specified number of times, we can use the range() function\n",
    "for x in range(5):\n",
    "    print(x)"
   ]
  },
  {
   "cell_type": "code",
   "execution_count": 38,
   "metadata": {},
   "outputs": [
    {
     "name": "stdout",
     "output_type": "stream",
     "text": [
      "0\n",
      "1\n",
      "2\n",
      "3\n",
      "4\n"
     ]
    }
   ],
   "source": [
    "x=5\n",
    "for i in range(x):\n",
    "    print(i)"
   ]
  },
  {
   "cell_type": "code",
   "execution_count": 41,
   "metadata": {},
   "outputs": [
    {
     "name": "stdout",
     "output_type": "stream",
     "text": [
      "6\n",
      "10\n",
      "14\n"
     ]
    }
   ],
   "source": [
    "# Intraval of somme numbers\n",
    "for x in range(6,16, 4):\n",
    "    print(x)"
   ]
  },
  {
   "cell_type": "code",
   "execution_count": 53,
   "metadata": {
    "scrolled": true
   },
   "outputs": [
    {
     "name": "stdout",
     "output_type": "stream",
     "text": [
      "Enter first number: 1\n",
      "Enter last number: 10\n",
      "Enter intraval number: 2\n",
      "1\n",
      "3\n",
      "5\n",
      "7\n",
      "9\n"
     ]
    }
   ],
   "source": [
    "# User input \n",
    "x=int(input(\"Enter first number: \"))\n",
    "y=int(input('Enter last number: '))\n",
    "z=int(input('Enter intraval number: '))\n",
    "for i in range(x,y,z):\n",
    "          print(i)"
   ]
  },
  {
   "cell_type": "code",
   "execution_count": 54,
   "metadata": {},
   "outputs": [
    {
     "name": "stdout",
     "output_type": "stream",
     "text": [
      "red apple\n",
      "red banana\n",
      "red cherry\n",
      "big apple\n",
      "big banana\n",
      "big cherry\n",
      "tasty apple\n",
      "tasty banana\n",
      "tasty cherry\n"
     ]
    }
   ],
   "source": [
    "# Nested loop\n",
    "# A nested loop is a loop inside a loop.\n",
    "adj=['red','big','tasty']\n",
    "fruits=['apple','banana','cherry']\n",
    "for x in adj:\n",
    "    for y in fruits:\n",
    "        print(x,y)"
   ]
  },
  {
   "cell_type": "markdown",
   "metadata": {},
   "source": [
    "# Python functions"
   ]
  },
  {
   "cell_type": "code",
   "execution_count": 55,
   "metadata": {},
   "outputs": [],
   "source": [
    "# A functions is a block of code which only runs when it is called.\n",
    "# You can pass data ,known as parameters , into a function.\n",
    "# A function can return dta as a rusult."
   ]
  },
  {
   "cell_type": "code",
   "execution_count": 56,
   "metadata": {},
   "outputs": [],
   "source": [
    "def my_function():\n",
    "    print('hello from a function')"
   ]
  },
  {
   "cell_type": "code",
   "execution_count": 57,
   "metadata": {},
   "outputs": [
    {
     "name": "stdout",
     "output_type": "stream",
     "text": [
      "hello from a function\n"
     ]
    }
   ],
   "source": [
    "my_function() # call function"
   ]
  },
  {
   "cell_type": "code",
   "execution_count": null,
   "metadata": {},
   "outputs": [],
   "source": []
  }
 ],
 "metadata": {
  "kernelspec": {
   "display_name": "Python 3",
   "language": "python",
   "name": "python3"
  },
  "language_info": {
   "codemirror_mode": {
    "name": "ipython",
    "version": 3
   },
   "file_extension": ".py",
   "mimetype": "text/x-python",
   "name": "python",
   "nbconvert_exporter": "python",
   "pygments_lexer": "ipython3",
   "version": "3.7.2"
  }
 },
 "nbformat": 4,
 "nbformat_minor": 2
}
